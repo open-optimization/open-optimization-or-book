{
 "cells": [
  {
   "cell_type": "code",
   "execution_count": 1,
   "metadata": {},
   "outputs": [
    {
     "name": "stdout",
     "output_type": "stream",
     "text": [
      "Set parameter Username\n",
      "Academic license - for non-commercial use only - expires 2024-08-24\n",
      "Gurobi Optimizer version 10.0.2 build v10.0.2rc0 (mac64[arm])\n",
      "\n",
      "CPU model: Apple M1 Pro\n",
      "Thread count: 10 physical cores, 10 logical processors, using up to 10 threads\n",
      "\n",
      "Optimize a model with 1 rows, 8 columns and 8 nonzeros\n",
      "Model fingerprint: 0xa2ec2b72\n",
      "Variable types: 0 continuous, 8 integer (8 binary)\n",
      "Coefficient statistics:\n",
      "  Matrix range     [5e-01, 5e+00]\n",
      "  Objective range  [5e+00, 1e+01]\n",
      "  Bounds range     [1e+00, 1e+00]\n",
      "  RHS range        [2e+01, 2e+01]\n",
      "Found heuristic solution: objective 54.0000000\n",
      "Presolve removed 1 rows and 8 columns\n",
      "Presolve time: 0.00s\n",
      "Presolve: All rows and columns removed\n",
      "\n",
      "Explored 0 nodes (0 simplex iterations) in 0.00 seconds (0.00 work units)\n",
      "Thread count was 1 (of 10 available processors)\n",
      "\n",
      "Solution count 2: 56 54 \n",
      "\n",
      "Optimal solution found (tolerance 1.00e-04)\n",
      "Best objective 5.600000000000e+01, best bound 5.600000000000e+01, gap 0.0000%\n",
      "Optimal solution found:\n",
      "Item A selected\n",
      "Item B selected\n",
      "Item C selected\n",
      "Item D selected\n",
      "Item E selected\n",
      "Item F selected\n",
      "Item H selected\n"
     ]
    }
   ],
   "source": [
    "from gurobipy import Model, GRB\n",
    "\n",
    "# Create a new model\n",
    "m = Model(\"camping_trip\")\n",
    "\n",
    "# Define data\n",
    "items = ['A', 'B', 'C', 'D', 'E', 'F', 'G', 'H']\n",
    "weights = {'A': 4, 'B': 2, 'C': 3, 'D': 1, 'E': 5, 'F': 1, 'G': 4, 'H': 0.5}\n",
    "values = {'A': 10, 'B': 9, 'C': 8, 'D': 7, 'E': 9, 'F': 6, 'G': 5, 'H': 7}\n",
    "\n",
    "# Add variables\n",
    "x = m.addVars(items, vtype=GRB.BINARY, name=\"x\")\n",
    "\n",
    "# Set objective\n",
    "m.setObjective(sum(values[i] * x[i] for i in items), GRB.MAXIMIZE)\n",
    "\n",
    "# Add weight constraint\n",
    "m.addConstr(sum(weights[i] * x[i] for i in items) <= 20, \"weight_limit\")\n",
    "\n",
    "# Optimize model\n",
    "m.optimize()\n",
    "\n",
    "# Print solution\n",
    "if m.status == GRB.OPTIMAL:\n",
    "    print('Optimal solution found:')\n",
    "    for i in items:\n",
    "        if x[i].X > 0.5: # Item is selected\n",
    "            print(f\"Item {i} selected\")\n",
    "else:\n",
    "    print(\"No optimal solution found.\")\n"
   ]
  }
 ],
 "metadata": {
  "kernelspec": {
   "display_name": "base",
   "language": "python",
   "name": "python3"
  },
  "language_info": {
   "codemirror_mode": {
    "name": "ipython",
    "version": 3
   },
   "file_extension": ".py",
   "mimetype": "text/x-python",
   "name": "python",
   "nbconvert_exporter": "python",
   "pygments_lexer": "ipython3",
   "version": "3.11.4"
  }
 },
 "nbformat": 4,
 "nbformat_minor": 2
}
