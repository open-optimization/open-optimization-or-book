{
 "cells": [
  {
   "cell_type": "code",
   "execution_count": 1,
   "metadata": {},
   "outputs": [
    {
     "name": "stdout",
     "output_type": "stream",
     "text": [
      "Set parameter Username\n",
      "Academic license - for non-commercial use only - expires 2024-08-24\n",
      "Gurobi Optimizer version 10.0.2 build v10.0.2rc0 (mac64[arm])\n",
      "\n",
      "CPU model: Apple M1 Pro\n",
      "Thread count: 10 physical cores, 10 logical processors, using up to 10 threads\n",
      "\n",
      "Optimize a model with 7 rows, 7 columns and 35 nonzeros\n",
      "Model fingerprint: 0x97000d28\n",
      "Variable types: 0 continuous, 7 integer (0 binary)\n",
      "Coefficient statistics:\n",
      "  Matrix range     [1e+00, 1e+00]\n",
      "  Objective range  [1e+00, 1e+00]\n",
      "  Bounds range     [0e+00, 0e+00]\n",
      "  RHS range        [3e+00, 7e+00]\n",
      "Found heuristic solution: objective 11.0000000\n",
      "Presolve time: 0.00s\n",
      "Presolved: 7 rows, 7 columns, 35 nonzeros\n",
      "Variable types: 0 continuous, 7 integer (0 binary)\n",
      "\n",
      "Root relaxation: objective 7.333333e+00, 6 iterations, 0.00 seconds (0.00 work units)\n",
      "\n",
      "    Nodes    |    Current Node    |     Objective Bounds      |     Work\n",
      " Expl Unexpl |  Obj  Depth IntInf | Incumbent    BestBd   Gap | It/Node Time\n",
      "\n",
      "     0     0    7.33333    0    4   11.00000    7.33333  33.3%     -    0s\n",
      "H    0     0                       8.0000000    7.33333  8.33%     -    0s\n",
      "     0     0    7.33333    0    4    8.00000    7.33333  8.33%     -    0s\n",
      "\n",
      "Explored 1 nodes (6 simplex iterations) in 0.01 seconds (0.00 work units)\n",
      "Thread count was 10 (of 10 available processors)\n",
      "\n",
      "Solution count 2: 8 11 \n",
      "\n",
      "Optimal solution found (tolerance 1.00e-04)\n",
      "Best objective 8.000000000000e+00, best bound 8.000000000000e+00, gap 0.0000%\n",
      "Minimum number of employees required: 8.0\n",
      "Start on day 1: -0.0 employees\n",
      "Start on day 2: 0.0 employees\n",
      "Start on day 3: 2.0 employees\n",
      "Start on day 4: 2.0 employees\n",
      "Start on day 5: 1.0 employees\n",
      "Start on day 6: 3.0 employees\n",
      "Start on day 7: 0.0 employees\n"
     ]
    }
   ],
   "source": [
    "from gurobipy import GRB, Model\n",
    "\n",
    "# Create a new model\n",
    "m = Model(\"LP_Burger_Work_Scheduling\")\n",
    "\n",
    "# Add decision variables\n",
    "days = range(7)  # Monday to Sunday\n",
    "x = m.addVars(days, name=\"x\", vtype=GRB.INTEGER)\n",
    "\n",
    "# Objective function\n",
    "m.setObjective(sum(x[i] for i in days), GRB.MINIMIZE)\n",
    "\n",
    "# Constraints\n",
    "m.addConstr(x[0] + x[3] + x[4] + x[5] + x[6] >= 6, \"Monday\")\n",
    "m.addConstr(x[1] + x[4] + x[5] + x[6] + x[0] >= 4, \"Tuesday\")\n",
    "m.addConstr(x[2] + x[5] + x[6] + x[0] + x[1] >= 5, \"Wednesday\")\n",
    "m.addConstr(x[3] + x[6] + x[0] + x[1] + x[2] >= 4, \"Thursday\")\n",
    "m.addConstr(x[4] + x[0] + x[1] + x[2] + x[3] >= 3, \"Friday\")\n",
    "m.addConstr(x[5] + x[1] + x[2] + x[3] + x[4] >= 7, \"Saturday\")\n",
    "m.addConstr(x[6] + x[2] + x[3] + x[4] + x[5] >= 7, \"Sunday\")\n",
    "\n",
    "# Solve model\n",
    "m.optimize()\n",
    "\n",
    "# Print solution\n",
    "if m.status == GRB.OPTIMAL:\n",
    "    print(\"Minimum number of employees required:\", m.objVal)\n",
    "    for i in days:\n",
    "        print(f\"Start on day {i+1}: {x[i].x} employees\")\n",
    "else:\n",
    "    print(\"No optimal solution found.\")\n"
   ]
  }
 ],
 "metadata": {
  "kernelspec": {
   "display_name": "base",
   "language": "python",
   "name": "python3"
  },
  "language_info": {
   "codemirror_mode": {
    "name": "ipython",
    "version": 3
   },
   "file_extension": ".py",
   "mimetype": "text/x-python",
   "name": "python",
   "nbconvert_exporter": "python",
   "pygments_lexer": "ipython3",
   "version": "3.11.4"
  }
 },
 "nbformat": 4,
 "nbformat_minor": 2
}
