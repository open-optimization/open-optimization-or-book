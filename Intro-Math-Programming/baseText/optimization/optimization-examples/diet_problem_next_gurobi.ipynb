{
 "cells": [
  {
   "cell_type": "code",
   "execution_count": 1,
   "metadata": {},
   "outputs": [
    {
     "name": "stdout",
     "output_type": "stream",
     "text": [
      "Set parameter Username\n",
      "Academic license - for non-commercial use only - expires 2024-08-24\n",
      "Gurobi Optimizer version 10.0.2 build v10.0.2rc0 (mac64[arm])\n",
      "\n",
      "CPU model: Apple M1 Pro\n",
      "Thread count: 10 physical cores, 10 logical processors, using up to 10 threads\n",
      "\n",
      "Optimize a model with 6 rows, 4 columns and 24 nonzeros\n",
      "Model fingerprint: 0x23bd7eee\n",
      "Coefficient statistics:\n",
      "  Matrix range     [1e+00, 1e+03]\n",
      "  Objective range  [7e-01, 1e+00]\n",
      "  Bounds range     [0e+00, 0e+00]\n",
      "  RHS range        [1e+01, 2e+03]\n",
      "Presolve time: 0.00s\n",
      "Presolved: 6 rows, 4 columns, 24 nonzeros\n",
      "\n",
      "Iteration    Objective       Primal Inf.    Dual Inf.      Time\n",
      "       0    6.5000000e+00   0.000000e+00   0.000000e+00      0s\n",
      "\n",
      "Solved in 0 iterations and 0.00 seconds (0.00 work units)\n",
      "Optimal objective  6.500000000e+00\n",
      "Optimal solution:\n",
      "Chemical 1: 0.0 grams\n",
      "Chemical 2: 0.0 grams\n",
      "Chemical 3: 0.0 grams\n",
      "Chemical 4: 10.0 grams\n"
     ]
    }
   ],
   "source": [
    "from gurobipy import GRB, Model\n",
    "\n",
    "# Create a new model\n",
    "m = Model(\"diet_problem_next\")\n",
    "\n",
    "# Define the chemicals\n",
    "chemicals = range(4)  # Chemicals 1 to 4\n",
    "\n",
    "# Define the parameters\n",
    "iron = [6, 4, 5, 3]\n",
    "vitamin_b = [6, 5, 2, 6]\n",
    "vitamin_c = [7, 4, 5, 3]\n",
    "vitamin_d = [4, 9, 6, 2]\n",
    "calories = [1000, 250, 850, 750]\n",
    "cost = [1.25, 1.05, 0.85, 0.65]\n",
    "\n",
    "# Add decision variables\n",
    "x = m.addVars(chemicals, name=\"x\", lb=0)\n",
    "\n",
    "# Set the objective\n",
    "m.setObjective(sum(cost[i] * x[i] for i in chemicals), GRB.MINIMIZE)\n",
    "\n",
    "# Add constraints\n",
    "m.addConstr(sum(iron[i] * x[i] for i in chemicals) >= 20, \"Iron\")\n",
    "m.addConstr(sum(vitamin_b[i] * x[i] for i in chemicals) >= 25, \"VitaminB\")\n",
    "m.addConstr(sum(vitamin_c[i] * x[i] for i in chemicals) >= 30, \"VitaminC\")\n",
    "m.addConstr(sum(vitamin_d[i] * x[i] for i in chemicals) >= 15, \"VitaminD\")\n",
    "m.addConstr(sum(calories[i] * x[i] for i in chemicals) >= 2000, \"Calories\")\n",
    "m.addConstr(sum(x[i] for i in chemicals) == 10, \"TotalMass\")\n",
    "\n",
    "# Optimize model\n",
    "m.optimize()\n",
    "\n",
    "# Print solution\n",
    "if m.status == GRB.OPTIMAL:\n",
    "    print(\"Optimal solution:\")\n",
    "    for i in chemicals:\n",
    "        print(f\"Chemical {i+1}: {x[i].x} grams\")\n",
    "else:\n",
    "    print(\"No optimal solution found.\")\n"
   ]
  }
 ],
 "metadata": {
  "kernelspec": {
   "display_name": "base",
   "language": "python",
   "name": "python3"
  },
  "language_info": {
   "codemirror_mode": {
    "name": "ipython",
    "version": 3
   },
   "file_extension": ".py",
   "mimetype": "text/x-python",
   "name": "python",
   "nbconvert_exporter": "python",
   "pygments_lexer": "ipython3",
   "version": "3.11.4"
  }
 },
 "nbformat": 4,
 "nbformat_minor": 2
}
