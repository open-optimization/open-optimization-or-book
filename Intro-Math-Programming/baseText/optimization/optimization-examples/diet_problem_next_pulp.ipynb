{
 "cells": [
  {
   "cell_type": "code",
   "execution_count": 1,
   "metadata": {},
   "outputs": [
    {
     "name": "stdout",
     "output_type": "stream",
     "text": [
      "Welcome to the CBC MILP Solver \n",
      "Version: 2.10.3 \n",
      "Build Date: Dec 15 2019 \n",
      "\n",
      "command line - /Users/maguiremcmahon/anaconda3/lib/python3.11/site-packages/pulp/solverdir/cbc/osx/64/cbc /var/folders/t_/v0rbfst90tz2msnttg7gck640000gn/T/086c10a91c1c4bf0842a09f81fe55901-pulp.mps timeMode elapsed branch printingOptions all solution /var/folders/t_/v0rbfst90tz2msnttg7gck640000gn/T/086c10a91c1c4bf0842a09f81fe55901-pulp.sol (default strategy 1)\n",
      "At line 2 NAME          MODEL\n",
      "At line 3 ROWS\n",
      "At line 11 COLUMNS\n",
      "At line 40 RHS\n",
      "At line 47 BOUNDS\n",
      "At line 48 ENDATA\n",
      "Problem MODEL has 6 rows, 4 columns and 24 elements\n",
      "Coin0008I MODEL read with 0 errors\n",
      "Option for timeMode changed from cpu to elapsed\n",
      "Presolve 6 (0) rows, 4 (0) columns and 24 (0) elements\n",
      "0  Obj 0 Primal inf 25.45238 (6)\n",
      "1  Obj 6.5\n",
      "Optimal - objective value 6.5\n",
      "Optimal objective 6.5 - 1 iterations time 0.002\n",
      "Option for printingOptions changed from normal to all\n",
      "Total time (CPU seconds):       0.00   (Wallclock seconds):       0.01\n",
      "\n",
      "Status: Optimal\n",
      "x_1 = 0.0\n",
      "x_2 = 0.0\n",
      "x_3 = 0.0\n",
      "x_4 = 10.0\n"
     ]
    }
   ],
   "source": [
    "import pulp\n",
    "\n",
    "# Define the problem\n",
    "problem = pulp.LpProblem(\"Diet_Problem_Next\", pulp.LpMinimize)\n",
    "\n",
    "# Define the decision variables\n",
    "x = pulp.LpVariable.dicts(\"x\", range(1, 5), lowBound=0)\n",
    "\n",
    "# Objective function\n",
    "problem += 1.25*x[1] + 1.05*x[2] + 0.85*x[3] + 0.65*x[4], \"Total Cost\"\n",
    "\n",
    "# Constraints\n",
    "problem += 6*x[1] + 4*x[2] + 5*x[3] + 3*x[4] >= 20, \"Iron\"\n",
    "problem += 6*x[1] + 5*x[2] + 2*x[3] + 6*x[4] >= 25, \"VitaminB\"\n",
    "problem += 7*x[1] + 4*x[2] + 5*x[3] + 3*x[4] >= 30, \"VitaminC\"\n",
    "problem += 4*x[1] + 9*x[2] + 6*x[3] + 2*x[4] >= 15, \"VitaminD\"\n",
    "problem += 1000*x[1] + 250*x[2] + 850*x[3] + 750*x[4] >= 2000, \"Calories\"\n",
    "problem += x[1] + x[2] + x[3] + x[4] == 10, \"TotalMass\"\n",
    "\n",
    "# Solve the problem\n",
    "problem.solve()\n",
    "\n",
    "# Print the solution\n",
    "print(\"Status:\", pulp.LpStatus[problem.status])\n",
    "for v in problem.variables():\n",
    "    print(v.name, \"=\", v.varValue)\n"
   ]
  }
 ],
 "metadata": {
  "kernelspec": {
   "display_name": "base",
   "language": "python",
   "name": "python3"
  },
  "language_info": {
   "codemirror_mode": {
    "name": "ipython",
    "version": 3
   },
   "file_extension": ".py",
   "mimetype": "text/x-python",
   "name": "python",
   "nbconvert_exporter": "python",
   "pygments_lexer": "ipython3",
   "version": "3.11.4"
  }
 },
 "nbformat": 4,
 "nbformat_minor": 2
}
