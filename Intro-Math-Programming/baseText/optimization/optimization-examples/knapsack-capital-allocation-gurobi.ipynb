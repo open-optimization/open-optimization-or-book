{
 "cells": [
  {
   "cell_type": "code",
   "execution_count": 1,
   "metadata": {},
   "outputs": [
    {
     "name": "stdout",
     "output_type": "stream",
     "text": [
      "Set parameter Username\n",
      "Academic license - for non-commercial use only - expires 2024-08-24\n",
      "Gurobi Optimizer version 10.0.2 build v10.0.2rc0 (mac64[arm])\n",
      "\n",
      "CPU model: Apple M1 Pro\n",
      "Thread count: 10 physical cores, 10 logical processors, using up to 10 threads\n",
      "\n",
      "Optimize a model with 1 rows, 5 columns and 5 nonzeros\n",
      "Model fingerprint: 0xedc8c276\n",
      "Variable types: 0 continuous, 5 integer (5 binary)\n",
      "Coefficient statistics:\n",
      "  Matrix range     [1e+04, 5e+04]\n",
      "  Objective range  [2e+04, 8e+04]\n",
      "  Bounds range     [1e+00, 1e+00]\n",
      "  RHS range        [1e+05, 1e+05]\n",
      "Found heuristic solution: objective 145000.00000\n",
      "Presolve removed 1 rows and 5 columns\n",
      "Presolve time: 0.00s\n",
      "Presolve: All rows and columns removed\n",
      "\n",
      "Explored 0 nodes (0 simplex iterations) in 0.00 seconds (0.00 work units)\n",
      "Thread count was 1 (of 10 available processors)\n",
      "\n",
      "Solution count 2: 150000 145000 \n",
      "\n",
      "Optimal solution found (tolerance 1.00e-04)\n",
      "Best objective 1.500000000000e+05, best bound 1.500000000000e+05, gap 0.0000%\n",
      "Project[A] = 0\n",
      "Project[B] = 0\n",
      "Project[C] = 1\n",
      "Project[D] = 1\n",
      "Project[E] = 1\n",
      "Total Projected Return: 150000\n"
     ]
    }
   ],
   "source": [
    "from gurobipy import Model, GRB\n",
    "\n",
    "# Problem data\n",
    "projects = ['A', 'B', 'C', 'D', 'E']\n",
    "investment_required = {'A': 20000, 'B': 30000, 'C': 50000, 'D': 10000, 'E': 40000}\n",
    "projected_return = {'A': 30000, 'B': 40000, 'C': 75000, 'D': 15000, 'E': 60000}\n",
    "\n",
    "# Create a new model\n",
    "m = Model(\"Capital_Allocation\")\n",
    "\n",
    "# Create variables\n",
    "x = m.addVars(projects, vtype=GRB.BINARY, name=\"Project\")\n",
    "\n",
    "# Set objective\n",
    "m.setObjective(sum(projected_return[i] * x[i] for i in projects), GRB.MAXIMIZE)\n",
    "\n",
    "# Add constraint: Sum of investments should not exceed available capital\n",
    "m.addConstr(sum(investment_required[i] * x[i] for i in projects) <= 100000, \"Total_Investment\")\n",
    "\n",
    "# Optimize model\n",
    "m.optimize()\n",
    "\n",
    "# Print results\n",
    "for v in m.getVars():\n",
    "    print('%s = %g' % (v.varName, v.x))\n",
    "\n",
    "print('Total Projected Return: %g' % m.objVal)\n"
   ]
  }
 ],
 "metadata": {
  "kernelspec": {
   "display_name": "base",
   "language": "python",
   "name": "python3"
  },
  "language_info": {
   "codemirror_mode": {
    "name": "ipython",
    "version": 3
   },
   "file_extension": ".py",
   "mimetype": "text/x-python",
   "name": "python",
   "nbconvert_exporter": "python",
   "pygments_lexer": "ipython3",
   "version": "3.11.4"
  }
 },
 "nbformat": 4,
 "nbformat_minor": 2
}
