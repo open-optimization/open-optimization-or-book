{
 "cells": [
  {
   "cell_type": "markdown",
   "metadata": {},
   "source": [
    "# Make Gif for this"
   ]
  },
  {
   "cell_type": "code",
   "execution_count": 7,
   "metadata": {},
   "outputs": [
    {
     "name": "stdout",
     "output_type": "stream",
     "text": [
      "Animation saved as linear_optimization.gif\n"
     ]
    }
   ],
   "source": [
    "import numpy as np\n",
    "import plotly.graph_objects as go\n",
    "import imageio\n",
    "import os\n",
    "\n",
    "# -----------------------------------\n",
    "# Step 1: Define the Polygonal Region\n",
    "# -----------------------------------\n",
    "# Vertices of the feasible polygon (a quadrilateral)\n",
    "polygon_vertices = np.array([\n",
    "    [0, 0],\n",
    "    [3, 0],\n",
    "    [2, 3],\n",
    "    [0, 4],\n",
    "    [0, 0]  # Closing the polygon\n",
    "])\n",
    "\n",
    "# Linear objective function: x1 + x2 = z\n",
    "c1, c2 = 1, 1  # Objective coefficients\n",
    "\n",
    "# Define z-values for animation\n",
    "z_values = range(1, 7)  # Integer contour levels from 1 to 8\n",
    "\n",
    "# -----------------------------------\n",
    "# Step 2: Generate Contour Lines and Frames\n",
    "# -----------------------------------\n",
    "# Create a folder for frames\n",
    "if not os.path.exists(\"frames\"):\n",
    "    os.makedirs(\"frames\")\n",
    "\n",
    "# Function to compute the contour line in the non-negative orthant\n",
    "def contour_line_in_orthant(z):\n",
    "    # The line x1 + x2 = z intersects the axes at:\n",
    "    # - (x1 = z, x2 = 0) on the x1-axis\n",
    "    # - (x1 = 0, x2 = z) on the x2-axis\n",
    "    return np.array([\n",
    "        [z, 0],  # Intersection with x1-axis\n",
    "        [0, z]   # Intersection with x2-axis\n",
    "    ])\n",
    "\n",
    "# Keep track of dashed lines\n",
    "previous_contours = []\n",
    "\n",
    "# Generate frames\n",
    "for i, z in enumerate(z_values):\n",
    "    fig = go.Figure()\n",
    "\n",
    "    # Plot the polygon (feasible region)\n",
    "    fig.add_trace(go.Scatter(\n",
    "        x=polygon_vertices[:, 0],\n",
    "        y=polygon_vertices[:, 1],\n",
    "        fill=\"toself\",\n",
    "        line=dict(color=\"blue\", width=2),\n",
    "        name=\"Feasible Region\"\n",
    "    ))\n",
    "\n",
    "    # Plot previous dashed contour lines\n",
    "    for prev_z, prev_line in previous_contours:\n",
    "        fig.add_trace(go.Scatter(\n",
    "            x=prev_line[:, 0],\n",
    "            y=prev_line[:, 1],\n",
    "            mode=\"lines\",\n",
    "            line=dict(dash=\"dash\", color=\"orange\", width=2),\n",
    "            name=f\"z = {prev_z} (dashed)\"\n",
    "        ))\n",
    "\n",
    "    # Compute the current contour line in the orthant\n",
    "    contour_line = contour_line_in_orthant(z)\n",
    "\n",
    "    # Add the current contour line\n",
    "    fig.add_trace(go.Scatter(\n",
    "        x=contour_line[:, 0],\n",
    "        y=contour_line[:, 1],\n",
    "        mode=\"lines\",\n",
    "        line=dict(color=\"red\", width=3),\n",
    "        name=f\"z = {z}\"\n",
    "    ))\n",
    "\n",
    "    # Save this contour line for future frames as dashed\n",
    "    previous_contours.append((z, contour_line))\n",
    "\n",
    "    # Update layout\n",
    "    fig.update_layout(\n",
    "        title=f\"Linear Objective Optimization: x1 + x2 = z (z = {z})\",\n",
    "        xaxis=dict(range=[-0.5, 5], title=\"x1\"),\n",
    "        yaxis=dict(range=[-0.5, 5], title=\"x2\"),\n",
    "        showlegend=True\n",
    "    )\n",
    "\n",
    "    # Save the current frame as an image\n",
    "    fig.write_image(f\"frames/frame_{i}.png\")\n",
    "\n",
    "# -----------------------------------\n",
    "# Step 3: Combine Frames into a GIF\n",
    "# -----------------------------------\n",
    "images = []\n",
    "for i in range(len(z_values)):\n",
    "    images.append(imageio.imread(f\"frames/frame_{i}.png\"))\n",
    "\n",
    "output_gif = \"linear_optimization.gif\"\n",
    "imageio.mimsave(output_gif, images, duration=1.2)\n",
    "\n",
    "print(f\"Animation saved as {output_gif}\")\n"
   ]
  },
  {
   "cell_type": "markdown",
   "metadata": {},
   "source": [
    "# Make interactive version of this"
   ]
  },
  {
   "cell_type": "code",
   "execution_count": 6,
   "metadata": {},
   "outputs": [
    {
     "data": {
      "application/vnd.plotly.v1+json": {
       "config": {
        "plotlyServerURL": "https://plot.ly"
       },
       "data": [
        {
         "fill": "toself",
         "line": {
          "color": "blue",
          "width": 2
         },
         "name": "Feasible Region",
         "type": "scatter",
         "x": [
          0,
          3,
          2,
          0,
          0
         ],
         "y": [
          0,
          0,
          3,
          4,
          0
         ]
        }
       ],
       "frames": [
        {
         "data": [
          {
           "fill": "toself",
           "line": {
            "color": "blue",
            "width": 2
           },
           "name": "Feasible Region",
           "type": "scatter",
           "x": [
            0,
            3,
            2,
            0,
            0
           ],
           "y": [
            0,
            0,
            3,
            4,
            0
           ]
          },
          {
           "line": {
            "color": "red",
            "width": 3
           },
           "mode": "lines",
           "name": "z = 1 (current)",
           "type": "scatter",
           "x": [
            1,
            0
           ],
           "y": [
            0,
            1
           ]
          }
         ],
         "name": "z = 1"
        },
        {
         "data": [
          {
           "fill": "toself",
           "line": {
            "color": "blue",
            "width": 2
           },
           "name": "Feasible Region",
           "type": "scatter",
           "x": [
            0,
            3,
            2,
            0,
            0
           ],
           "y": [
            0,
            0,
            3,
            4,
            0
           ]
          },
          {
           "line": {
            "color": "orange",
            "dash": "dash",
            "width": 2
           },
           "mode": "lines",
           "name": "z = 1 (dashed)",
           "type": "scatter",
           "x": [
            1,
            0
           ],
           "y": [
            0,
            1
           ]
          },
          {
           "line": {
            "color": "red",
            "width": 3
           },
           "mode": "lines",
           "name": "z = 2 (current)",
           "type": "scatter",
           "x": [
            2,
            0
           ],
           "y": [
            0,
            2
           ]
          }
         ],
         "name": "z = 2"
        },
        {
         "data": [
          {
           "fill": "toself",
           "line": {
            "color": "blue",
            "width": 2
           },
           "name": "Feasible Region",
           "type": "scatter",
           "x": [
            0,
            3,
            2,
            0,
            0
           ],
           "y": [
            0,
            0,
            3,
            4,
            0
           ]
          },
          {
           "line": {
            "color": "orange",
            "dash": "dash",
            "width": 2
           },
           "mode": "lines",
           "name": "z = 1 (dashed)",
           "type": "scatter",
           "x": [
            1,
            0
           ],
           "y": [
            0,
            1
           ]
          },
          {
           "line": {
            "color": "orange",
            "dash": "dash",
            "width": 2
           },
           "mode": "lines",
           "name": "z = 2 (dashed)",
           "type": "scatter",
           "x": [
            2,
            0
           ],
           "y": [
            0,
            2
           ]
          },
          {
           "line": {
            "color": "red",
            "width": 3
           },
           "mode": "lines",
           "name": "z = 3 (current)",
           "type": "scatter",
           "x": [
            3,
            0
           ],
           "y": [
            0,
            3
           ]
          }
         ],
         "name": "z = 3"
        },
        {
         "data": [
          {
           "fill": "toself",
           "line": {
            "color": "blue",
            "width": 2
           },
           "name": "Feasible Region",
           "type": "scatter",
           "x": [
            0,
            3,
            2,
            0,
            0
           ],
           "y": [
            0,
            0,
            3,
            4,
            0
           ]
          },
          {
           "line": {
            "color": "orange",
            "dash": "dash",
            "width": 2
           },
           "mode": "lines",
           "name": "z = 1 (dashed)",
           "type": "scatter",
           "x": [
            1,
            0
           ],
           "y": [
            0,
            1
           ]
          },
          {
           "line": {
            "color": "orange",
            "dash": "dash",
            "width": 2
           },
           "mode": "lines",
           "name": "z = 2 (dashed)",
           "type": "scatter",
           "x": [
            2,
            0
           ],
           "y": [
            0,
            2
           ]
          },
          {
           "line": {
            "color": "orange",
            "dash": "dash",
            "width": 2
           },
           "mode": "lines",
           "name": "z = 3 (dashed)",
           "type": "scatter",
           "x": [
            3,
            0
           ],
           "y": [
            0,
            3
           ]
          },
          {
           "line": {
            "color": "red",
            "width": 3
           },
           "mode": "lines",
           "name": "z = 4 (current)",
           "type": "scatter",
           "x": [
            4,
            0
           ],
           "y": [
            0,
            4
           ]
          }
         ],
         "name": "z = 4"
        },
        {
         "data": [
          {
           "fill": "toself",
           "line": {
            "color": "blue",
            "width": 2
           },
           "name": "Feasible Region",
           "type": "scatter",
           "x": [
            0,
            3,
            2,
            0,
            0
           ],
           "y": [
            0,
            0,
            3,
            4,
            0
           ]
          },
          {
           "line": {
            "color": "orange",
            "dash": "dash",
            "width": 2
           },
           "mode": "lines",
           "name": "z = 1 (dashed)",
           "type": "scatter",
           "x": [
            1,
            0
           ],
           "y": [
            0,
            1
           ]
          },
          {
           "line": {
            "color": "orange",
            "dash": "dash",
            "width": 2
           },
           "mode": "lines",
           "name": "z = 2 (dashed)",
           "type": "scatter",
           "x": [
            2,
            0
           ],
           "y": [
            0,
            2
           ]
          },
          {
           "line": {
            "color": "orange",
            "dash": "dash",
            "width": 2
           },
           "mode": "lines",
           "name": "z = 3 (dashed)",
           "type": "scatter",
           "x": [
            3,
            0
           ],
           "y": [
            0,
            3
           ]
          },
          {
           "line": {
            "color": "orange",
            "dash": "dash",
            "width": 2
           },
           "mode": "lines",
           "name": "z = 4 (dashed)",
           "type": "scatter",
           "x": [
            4,
            0
           ],
           "y": [
            0,
            4
           ]
          },
          {
           "line": {
            "color": "red",
            "width": 3
           },
           "mode": "lines",
           "name": "z = 5 (current)",
           "type": "scatter",
           "x": [
            5,
            0
           ],
           "y": [
            0,
            5
           ]
          }
         ],
         "name": "z = 5"
        },
        {
         "data": [
          {
           "fill": "toself",
           "line": {
            "color": "blue",
            "width": 2
           },
           "name": "Feasible Region",
           "type": "scatter",
           "x": [
            0,
            3,
            2,
            0,
            0
           ],
           "y": [
            0,
            0,
            3,
            4,
            0
           ]
          },
          {
           "line": {
            "color": "orange",
            "dash": "dash",
            "width": 2
           },
           "mode": "lines",
           "name": "z = 1 (dashed)",
           "type": "scatter",
           "x": [
            1,
            0
           ],
           "y": [
            0,
            1
           ]
          },
          {
           "line": {
            "color": "orange",
            "dash": "dash",
            "width": 2
           },
           "mode": "lines",
           "name": "z = 2 (dashed)",
           "type": "scatter",
           "x": [
            2,
            0
           ],
           "y": [
            0,
            2
           ]
          },
          {
           "line": {
            "color": "orange",
            "dash": "dash",
            "width": 2
           },
           "mode": "lines",
           "name": "z = 3 (dashed)",
           "type": "scatter",
           "x": [
            3,
            0
           ],
           "y": [
            0,
            3
           ]
          },
          {
           "line": {
            "color": "orange",
            "dash": "dash",
            "width": 2
           },
           "mode": "lines",
           "name": "z = 4 (dashed)",
           "type": "scatter",
           "x": [
            4,
            0
           ],
           "y": [
            0,
            4
           ]
          },
          {
           "line": {
            "color": "orange",
            "dash": "dash",
            "width": 2
           },
           "mode": "lines",
           "name": "z = 5 (dashed)",
           "type": "scatter",
           "x": [
            5,
            0
           ],
           "y": [
            0,
            5
           ]
          },
          {
           "line": {
            "color": "red",
            "width": 3
           },
           "mode": "lines",
           "name": "z = 6 (current)",
           "type": "scatter",
           "x": [
            6,
            0
           ],
           "y": [
            0,
            6
           ]
          }
         ],
         "name": "z = 6"
        }
       ],
       "layout": {
        "showlegend": true,
        "sliders": [
         {
          "active": 0,
          "currentvalue": {
           "font": {
            "size": 16
           },
           "prefix": "z = "
          },
          "steps": [
           {
            "args": [
             [
              "z = 1"
             ],
             {
              "frame": {
               "duration": 500,
               "redraw": true
              },
              "mode": "immediate"
             }
            ],
            "label": "1",
            "method": "animate"
           },
           {
            "args": [
             [
              "z = 2"
             ],
             {
              "frame": {
               "duration": 500,
               "redraw": true
              },
              "mode": "immediate"
             }
            ],
            "label": "2",
            "method": "animate"
           },
           {
            "args": [
             [
              "z = 3"
             ],
             {
              "frame": {
               "duration": 500,
               "redraw": true
              },
              "mode": "immediate"
             }
            ],
            "label": "3",
            "method": "animate"
           },
           {
            "args": [
             [
              "z = 4"
             ],
             {
              "frame": {
               "duration": 500,
               "redraw": true
              },
              "mode": "immediate"
             }
            ],
            "label": "4",
            "method": "animate"
           },
           {
            "args": [
             [
              "z = 5"
             ],
             {
              "frame": {
               "duration": 500,
               "redraw": true
              },
              "mode": "immediate"
             }
            ],
            "label": "5",
            "method": "animate"
           },
           {
            "args": [
             [
              "z = 6"
             ],
             {
              "frame": {
               "duration": 500,
               "redraw": true
              },
              "mode": "immediate"
             }
            ],
            "label": "6",
            "method": "animate"
           }
          ]
         }
        ],
        "template": {
         "data": {
          "bar": [
           {
            "error_x": {
             "color": "#2a3f5f"
            },
            "error_y": {
             "color": "#2a3f5f"
            },
            "marker": {
             "line": {
              "color": "#E5ECF6",
              "width": 0.5
             },
             "pattern": {
              "fillmode": "overlay",
              "size": 10,
              "solidity": 0.2
             }
            },
            "type": "bar"
           }
          ],
          "barpolar": [
           {
            "marker": {
             "line": {
              "color": "#E5ECF6",
              "width": 0.5
             },
             "pattern": {
              "fillmode": "overlay",
              "size": 10,
              "solidity": 0.2
             }
            },
            "type": "barpolar"
           }
          ],
          "carpet": [
           {
            "aaxis": {
             "endlinecolor": "#2a3f5f",
             "gridcolor": "white",
             "linecolor": "white",
             "minorgridcolor": "white",
             "startlinecolor": "#2a3f5f"
            },
            "baxis": {
             "endlinecolor": "#2a3f5f",
             "gridcolor": "white",
             "linecolor": "white",
             "minorgridcolor": "white",
             "startlinecolor": "#2a3f5f"
            },
            "type": "carpet"
           }
          ],
          "choropleth": [
           {
            "colorbar": {
             "outlinewidth": 0,
             "ticks": ""
            },
            "type": "choropleth"
           }
          ],
          "contour": [
           {
            "colorbar": {
             "outlinewidth": 0,
             "ticks": ""
            },
            "colorscale": [
             [
              0,
              "#0d0887"
             ],
             [
              0.1111111111111111,
              "#46039f"
             ],
             [
              0.2222222222222222,
              "#7201a8"
             ],
             [
              0.3333333333333333,
              "#9c179e"
             ],
             [
              0.4444444444444444,
              "#bd3786"
             ],
             [
              0.5555555555555556,
              "#d8576b"
             ],
             [
              0.6666666666666666,
              "#ed7953"
             ],
             [
              0.7777777777777778,
              "#fb9f3a"
             ],
             [
              0.8888888888888888,
              "#fdca26"
             ],
             [
              1,
              "#f0f921"
             ]
            ],
            "type": "contour"
           }
          ],
          "contourcarpet": [
           {
            "colorbar": {
             "outlinewidth": 0,
             "ticks": ""
            },
            "type": "contourcarpet"
           }
          ],
          "heatmap": [
           {
            "colorbar": {
             "outlinewidth": 0,
             "ticks": ""
            },
            "colorscale": [
             [
              0,
              "#0d0887"
             ],
             [
              0.1111111111111111,
              "#46039f"
             ],
             [
              0.2222222222222222,
              "#7201a8"
             ],
             [
              0.3333333333333333,
              "#9c179e"
             ],
             [
              0.4444444444444444,
              "#bd3786"
             ],
             [
              0.5555555555555556,
              "#d8576b"
             ],
             [
              0.6666666666666666,
              "#ed7953"
             ],
             [
              0.7777777777777778,
              "#fb9f3a"
             ],
             [
              0.8888888888888888,
              "#fdca26"
             ],
             [
              1,
              "#f0f921"
             ]
            ],
            "type": "heatmap"
           }
          ],
          "heatmapgl": [
           {
            "colorbar": {
             "outlinewidth": 0,
             "ticks": ""
            },
            "colorscale": [
             [
              0,
              "#0d0887"
             ],
             [
              0.1111111111111111,
              "#46039f"
             ],
             [
              0.2222222222222222,
              "#7201a8"
             ],
             [
              0.3333333333333333,
              "#9c179e"
             ],
             [
              0.4444444444444444,
              "#bd3786"
             ],
             [
              0.5555555555555556,
              "#d8576b"
             ],
             [
              0.6666666666666666,
              "#ed7953"
             ],
             [
              0.7777777777777778,
              "#fb9f3a"
             ],
             [
              0.8888888888888888,
              "#fdca26"
             ],
             [
              1,
              "#f0f921"
             ]
            ],
            "type": "heatmapgl"
           }
          ],
          "histogram": [
           {
            "marker": {
             "pattern": {
              "fillmode": "overlay",
              "size": 10,
              "solidity": 0.2
             }
            },
            "type": "histogram"
           }
          ],
          "histogram2d": [
           {
            "colorbar": {
             "outlinewidth": 0,
             "ticks": ""
            },
            "colorscale": [
             [
              0,
              "#0d0887"
             ],
             [
              0.1111111111111111,
              "#46039f"
             ],
             [
              0.2222222222222222,
              "#7201a8"
             ],
             [
              0.3333333333333333,
              "#9c179e"
             ],
             [
              0.4444444444444444,
              "#bd3786"
             ],
             [
              0.5555555555555556,
              "#d8576b"
             ],
             [
              0.6666666666666666,
              "#ed7953"
             ],
             [
              0.7777777777777778,
              "#fb9f3a"
             ],
             [
              0.8888888888888888,
              "#fdca26"
             ],
             [
              1,
              "#f0f921"
             ]
            ],
            "type": "histogram2d"
           }
          ],
          "histogram2dcontour": [
           {
            "colorbar": {
             "outlinewidth": 0,
             "ticks": ""
            },
            "colorscale": [
             [
              0,
              "#0d0887"
             ],
             [
              0.1111111111111111,
              "#46039f"
             ],
             [
              0.2222222222222222,
              "#7201a8"
             ],
             [
              0.3333333333333333,
              "#9c179e"
             ],
             [
              0.4444444444444444,
              "#bd3786"
             ],
             [
              0.5555555555555556,
              "#d8576b"
             ],
             [
              0.6666666666666666,
              "#ed7953"
             ],
             [
              0.7777777777777778,
              "#fb9f3a"
             ],
             [
              0.8888888888888888,
              "#fdca26"
             ],
             [
              1,
              "#f0f921"
             ]
            ],
            "type": "histogram2dcontour"
           }
          ],
          "mesh3d": [
           {
            "colorbar": {
             "outlinewidth": 0,
             "ticks": ""
            },
            "type": "mesh3d"
           }
          ],
          "parcoords": [
           {
            "line": {
             "colorbar": {
              "outlinewidth": 0,
              "ticks": ""
             }
            },
            "type": "parcoords"
           }
          ],
          "pie": [
           {
            "automargin": true,
            "type": "pie"
           }
          ],
          "scatter": [
           {
            "fillpattern": {
             "fillmode": "overlay",
             "size": 10,
             "solidity": 0.2
            },
            "type": "scatter"
           }
          ],
          "scatter3d": [
           {
            "line": {
             "colorbar": {
              "outlinewidth": 0,
              "ticks": ""
             }
            },
            "marker": {
             "colorbar": {
              "outlinewidth": 0,
              "ticks": ""
             }
            },
            "type": "scatter3d"
           }
          ],
          "scattercarpet": [
           {
            "marker": {
             "colorbar": {
              "outlinewidth": 0,
              "ticks": ""
             }
            },
            "type": "scattercarpet"
           }
          ],
          "scattergeo": [
           {
            "marker": {
             "colorbar": {
              "outlinewidth": 0,
              "ticks": ""
             }
            },
            "type": "scattergeo"
           }
          ],
          "scattergl": [
           {
            "marker": {
             "colorbar": {
              "outlinewidth": 0,
              "ticks": ""
             }
            },
            "type": "scattergl"
           }
          ],
          "scattermapbox": [
           {
            "marker": {
             "colorbar": {
              "outlinewidth": 0,
              "ticks": ""
             }
            },
            "type": "scattermapbox"
           }
          ],
          "scatterpolar": [
           {
            "marker": {
             "colorbar": {
              "outlinewidth": 0,
              "ticks": ""
             }
            },
            "type": "scatterpolar"
           }
          ],
          "scatterpolargl": [
           {
            "marker": {
             "colorbar": {
              "outlinewidth": 0,
              "ticks": ""
             }
            },
            "type": "scatterpolargl"
           }
          ],
          "scatterternary": [
           {
            "marker": {
             "colorbar": {
              "outlinewidth": 0,
              "ticks": ""
             }
            },
            "type": "scatterternary"
           }
          ],
          "surface": [
           {
            "colorbar": {
             "outlinewidth": 0,
             "ticks": ""
            },
            "colorscale": [
             [
              0,
              "#0d0887"
             ],
             [
              0.1111111111111111,
              "#46039f"
             ],
             [
              0.2222222222222222,
              "#7201a8"
             ],
             [
              0.3333333333333333,
              "#9c179e"
             ],
             [
              0.4444444444444444,
              "#bd3786"
             ],
             [
              0.5555555555555556,
              "#d8576b"
             ],
             [
              0.6666666666666666,
              "#ed7953"
             ],
             [
              0.7777777777777778,
              "#fb9f3a"
             ],
             [
              0.8888888888888888,
              "#fdca26"
             ],
             [
              1,
              "#f0f921"
             ]
            ],
            "type": "surface"
           }
          ],
          "table": [
           {
            "cells": {
             "fill": {
              "color": "#EBF0F8"
             },
             "line": {
              "color": "white"
             }
            },
            "header": {
             "fill": {
              "color": "#C8D4E3"
             },
             "line": {
              "color": "white"
             }
            },
            "type": "table"
           }
          ]
         },
         "layout": {
          "annotationdefaults": {
           "arrowcolor": "#2a3f5f",
           "arrowhead": 0,
           "arrowwidth": 1
          },
          "autotypenumbers": "strict",
          "coloraxis": {
           "colorbar": {
            "outlinewidth": 0,
            "ticks": ""
           }
          },
          "colorscale": {
           "diverging": [
            [
             0,
             "#8e0152"
            ],
            [
             0.1,
             "#c51b7d"
            ],
            [
             0.2,
             "#de77ae"
            ],
            [
             0.3,
             "#f1b6da"
            ],
            [
             0.4,
             "#fde0ef"
            ],
            [
             0.5,
             "#f7f7f7"
            ],
            [
             0.6,
             "#e6f5d0"
            ],
            [
             0.7,
             "#b8e186"
            ],
            [
             0.8,
             "#7fbc41"
            ],
            [
             0.9,
             "#4d9221"
            ],
            [
             1,
             "#276419"
            ]
           ],
           "sequential": [
            [
             0,
             "#0d0887"
            ],
            [
             0.1111111111111111,
             "#46039f"
            ],
            [
             0.2222222222222222,
             "#7201a8"
            ],
            [
             0.3333333333333333,
             "#9c179e"
            ],
            [
             0.4444444444444444,
             "#bd3786"
            ],
            [
             0.5555555555555556,
             "#d8576b"
            ],
            [
             0.6666666666666666,
             "#ed7953"
            ],
            [
             0.7777777777777778,
             "#fb9f3a"
            ],
            [
             0.8888888888888888,
             "#fdca26"
            ],
            [
             1,
             "#f0f921"
            ]
           ],
           "sequentialminus": [
            [
             0,
             "#0d0887"
            ],
            [
             0.1111111111111111,
             "#46039f"
            ],
            [
             0.2222222222222222,
             "#7201a8"
            ],
            [
             0.3333333333333333,
             "#9c179e"
            ],
            [
             0.4444444444444444,
             "#bd3786"
            ],
            [
             0.5555555555555556,
             "#d8576b"
            ],
            [
             0.6666666666666666,
             "#ed7953"
            ],
            [
             0.7777777777777778,
             "#fb9f3a"
            ],
            [
             0.8888888888888888,
             "#fdca26"
            ],
            [
             1,
             "#f0f921"
            ]
           ]
          },
          "colorway": [
           "#636efa",
           "#EF553B",
           "#00cc96",
           "#ab63fa",
           "#FFA15A",
           "#19d3f3",
           "#FF6692",
           "#B6E880",
           "#FF97FF",
           "#FECB52"
          ],
          "font": {
           "color": "#2a3f5f"
          },
          "geo": {
           "bgcolor": "white",
           "lakecolor": "white",
           "landcolor": "#E5ECF6",
           "showlakes": true,
           "showland": true,
           "subunitcolor": "white"
          },
          "hoverlabel": {
           "align": "left"
          },
          "hovermode": "closest",
          "mapbox": {
           "style": "light"
          },
          "paper_bgcolor": "white",
          "plot_bgcolor": "#E5ECF6",
          "polar": {
           "angularaxis": {
            "gridcolor": "white",
            "linecolor": "white",
            "ticks": ""
           },
           "bgcolor": "#E5ECF6",
           "radialaxis": {
            "gridcolor": "white",
            "linecolor": "white",
            "ticks": ""
           }
          },
          "scene": {
           "xaxis": {
            "backgroundcolor": "#E5ECF6",
            "gridcolor": "white",
            "gridwidth": 2,
            "linecolor": "white",
            "showbackground": true,
            "ticks": "",
            "zerolinecolor": "white"
           },
           "yaxis": {
            "backgroundcolor": "#E5ECF6",
            "gridcolor": "white",
            "gridwidth": 2,
            "linecolor": "white",
            "showbackground": true,
            "ticks": "",
            "zerolinecolor": "white"
           },
           "zaxis": {
            "backgroundcolor": "#E5ECF6",
            "gridcolor": "white",
            "gridwidth": 2,
            "linecolor": "white",
            "showbackground": true,
            "ticks": "",
            "zerolinecolor": "white"
           }
          },
          "shapedefaults": {
           "line": {
            "color": "#2a3f5f"
           }
          },
          "ternary": {
           "aaxis": {
            "gridcolor": "white",
            "linecolor": "white",
            "ticks": ""
           },
           "baxis": {
            "gridcolor": "white",
            "linecolor": "white",
            "ticks": ""
           },
           "bgcolor": "#E5ECF6",
           "caxis": {
            "gridcolor": "white",
            "linecolor": "white",
            "ticks": ""
           }
          },
          "title": {
           "x": 0.05
          },
          "xaxis": {
           "automargin": true,
           "gridcolor": "white",
           "linecolor": "white",
           "ticks": "",
           "title": {
            "standoff": 15
           },
           "zerolinecolor": "white",
           "zerolinewidth": 2
          },
          "yaxis": {
           "automargin": true,
           "gridcolor": "white",
           "linecolor": "white",
           "ticks": "",
           "title": {
            "standoff": 15
           },
           "zerolinecolor": "white",
           "zerolinewidth": 2
          }
         }
        },
        "title": {
         "text": "Linear Objective Optimization: x1 + x2 = z"
        },
        "xaxis": {
         "range": [
          -0.5,
          5
         ],
         "title": {
          "text": "x1"
         }
        },
        "yaxis": {
         "range": [
          -0.5,
          5
         ],
         "title": {
          "text": "x2"
         }
        }
       }
      },
      "text/html": [
       "<div>                            <div id=\"375f8bca-7cf4-4d48-a030-e2e9f07068dd\" class=\"plotly-graph-div\" style=\"height:525px; width:100%;\"></div>            <script type=\"text/javascript\">                require([\"plotly\"], function(Plotly) {                    window.PLOTLYENV=window.PLOTLYENV || {};                                    if (document.getElementById(\"375f8bca-7cf4-4d48-a030-e2e9f07068dd\")) {                    Plotly.newPlot(                        \"375f8bca-7cf4-4d48-a030-e2e9f07068dd\",                        [{\"fill\":\"toself\",\"line\":{\"color\":\"blue\",\"width\":2},\"name\":\"Feasible Region\",\"x\":[0,3,2,0,0],\"y\":[0,0,3,4,0],\"type\":\"scatter\"}],                        {\"template\":{\"data\":{\"histogram2dcontour\":[{\"type\":\"histogram2dcontour\",\"colorbar\":{\"outlinewidth\":0,\"ticks\":\"\"},\"colorscale\":[[0.0,\"#0d0887\"],[0.1111111111111111,\"#46039f\"],[0.2222222222222222,\"#7201a8\"],[0.3333333333333333,\"#9c179e\"],[0.4444444444444444,\"#bd3786\"],[0.5555555555555556,\"#d8576b\"],[0.6666666666666666,\"#ed7953\"],[0.7777777777777778,\"#fb9f3a\"],[0.8888888888888888,\"#fdca26\"],[1.0,\"#f0f921\"]]}],\"choropleth\":[{\"type\":\"choropleth\",\"colorbar\":{\"outlinewidth\":0,\"ticks\":\"\"}}],\"histogram2d\":[{\"type\":\"histogram2d\",\"colorbar\":{\"outlinewidth\":0,\"ticks\":\"\"},\"colorscale\":[[0.0,\"#0d0887\"],[0.1111111111111111,\"#46039f\"],[0.2222222222222222,\"#7201a8\"],[0.3333333333333333,\"#9c179e\"],[0.4444444444444444,\"#bd3786\"],[0.5555555555555556,\"#d8576b\"],[0.6666666666666666,\"#ed7953\"],[0.7777777777777778,\"#fb9f3a\"],[0.8888888888888888,\"#fdca26\"],[1.0,\"#f0f921\"]]}],\"heatmap\":[{\"type\":\"heatmap\",\"colorbar\":{\"outlinewidth\":0,\"ticks\":\"\"},\"colorscale\":[[0.0,\"#0d0887\"],[0.1111111111111111,\"#46039f\"],[0.2222222222222222,\"#7201a8\"],[0.3333333333333333,\"#9c179e\"],[0.4444444444444444,\"#bd3786\"],[0.5555555555555556,\"#d8576b\"],[0.6666666666666666,\"#ed7953\"],[0.7777777777777778,\"#fb9f3a\"],[0.8888888888888888,\"#fdca26\"],[1.0,\"#f0f921\"]]}],\"heatmapgl\":[{\"type\":\"heatmapgl\",\"colorbar\":{\"outlinewidth\":0,\"ticks\":\"\"},\"colorscale\":[[0.0,\"#0d0887\"],[0.1111111111111111,\"#46039f\"],[0.2222222222222222,\"#7201a8\"],[0.3333333333333333,\"#9c179e\"],[0.4444444444444444,\"#bd3786\"],[0.5555555555555556,\"#d8576b\"],[0.6666666666666666,\"#ed7953\"],[0.7777777777777778,\"#fb9f3a\"],[0.8888888888888888,\"#fdca26\"],[1.0,\"#f0f921\"]]}],\"contourcarpet\":[{\"type\":\"contourcarpet\",\"colorbar\":{\"outlinewidth\":0,\"ticks\":\"\"}}],\"contour\":[{\"type\":\"contour\",\"colorbar\":{\"outlinewidth\":0,\"ticks\":\"\"},\"colorscale\":[[0.0,\"#0d0887\"],[0.1111111111111111,\"#46039f\"],[0.2222222222222222,\"#7201a8\"],[0.3333333333333333,\"#9c179e\"],[0.4444444444444444,\"#bd3786\"],[0.5555555555555556,\"#d8576b\"],[0.6666666666666666,\"#ed7953\"],[0.7777777777777778,\"#fb9f3a\"],[0.8888888888888888,\"#fdca26\"],[1.0,\"#f0f921\"]]}],\"surface\":[{\"type\":\"surface\",\"colorbar\":{\"outlinewidth\":0,\"ticks\":\"\"},\"colorscale\":[[0.0,\"#0d0887\"],[0.1111111111111111,\"#46039f\"],[0.2222222222222222,\"#7201a8\"],[0.3333333333333333,\"#9c179e\"],[0.4444444444444444,\"#bd3786\"],[0.5555555555555556,\"#d8576b\"],[0.6666666666666666,\"#ed7953\"],[0.7777777777777778,\"#fb9f3a\"],[0.8888888888888888,\"#fdca26\"],[1.0,\"#f0f921\"]]}],\"mesh3d\":[{\"type\":\"mesh3d\",\"colorbar\":{\"outlinewidth\":0,\"ticks\":\"\"}}],\"scatter\":[{\"fillpattern\":{\"fillmode\":\"overlay\",\"size\":10,\"solidity\":0.2},\"type\":\"scatter\"}],\"parcoords\":[{\"type\":\"parcoords\",\"line\":{\"colorbar\":{\"outlinewidth\":0,\"ticks\":\"\"}}}],\"scatterpolargl\":[{\"type\":\"scatterpolargl\",\"marker\":{\"colorbar\":{\"outlinewidth\":0,\"ticks\":\"\"}}}],\"bar\":[{\"error_x\":{\"color\":\"#2a3f5f\"},\"error_y\":{\"color\":\"#2a3f5f\"},\"marker\":{\"line\":{\"color\":\"#E5ECF6\",\"width\":0.5},\"pattern\":{\"fillmode\":\"overlay\",\"size\":10,\"solidity\":0.2}},\"type\":\"bar\"}],\"scattergeo\":[{\"type\":\"scattergeo\",\"marker\":{\"colorbar\":{\"outlinewidth\":0,\"ticks\":\"\"}}}],\"scatterpolar\":[{\"type\":\"scatterpolar\",\"marker\":{\"colorbar\":{\"outlinewidth\":0,\"ticks\":\"\"}}}],\"histogram\":[{\"marker\":{\"pattern\":{\"fillmode\":\"overlay\",\"size\":10,\"solidity\":0.2}},\"type\":\"histogram\"}],\"scattergl\":[{\"type\":\"scattergl\",\"marker\":{\"colorbar\":{\"outlinewidth\":0,\"ticks\":\"\"}}}],\"scatter3d\":[{\"type\":\"scatter3d\",\"line\":{\"colorbar\":{\"outlinewidth\":0,\"ticks\":\"\"}},\"marker\":{\"colorbar\":{\"outlinewidth\":0,\"ticks\":\"\"}}}],\"scattermapbox\":[{\"type\":\"scattermapbox\",\"marker\":{\"colorbar\":{\"outlinewidth\":0,\"ticks\":\"\"}}}],\"scatterternary\":[{\"type\":\"scatterternary\",\"marker\":{\"colorbar\":{\"outlinewidth\":0,\"ticks\":\"\"}}}],\"scattercarpet\":[{\"type\":\"scattercarpet\",\"marker\":{\"colorbar\":{\"outlinewidth\":0,\"ticks\":\"\"}}}],\"carpet\":[{\"aaxis\":{\"endlinecolor\":\"#2a3f5f\",\"gridcolor\":\"white\",\"linecolor\":\"white\",\"minorgridcolor\":\"white\",\"startlinecolor\":\"#2a3f5f\"},\"baxis\":{\"endlinecolor\":\"#2a3f5f\",\"gridcolor\":\"white\",\"linecolor\":\"white\",\"minorgridcolor\":\"white\",\"startlinecolor\":\"#2a3f5f\"},\"type\":\"carpet\"}],\"table\":[{\"cells\":{\"fill\":{\"color\":\"#EBF0F8\"},\"line\":{\"color\":\"white\"}},\"header\":{\"fill\":{\"color\":\"#C8D4E3\"},\"line\":{\"color\":\"white\"}},\"type\":\"table\"}],\"barpolar\":[{\"marker\":{\"line\":{\"color\":\"#E5ECF6\",\"width\":0.5},\"pattern\":{\"fillmode\":\"overlay\",\"size\":10,\"solidity\":0.2}},\"type\":\"barpolar\"}],\"pie\":[{\"automargin\":true,\"type\":\"pie\"}]},\"layout\":{\"autotypenumbers\":\"strict\",\"colorway\":[\"#636efa\",\"#EF553B\",\"#00cc96\",\"#ab63fa\",\"#FFA15A\",\"#19d3f3\",\"#FF6692\",\"#B6E880\",\"#FF97FF\",\"#FECB52\"],\"font\":{\"color\":\"#2a3f5f\"},\"hovermode\":\"closest\",\"hoverlabel\":{\"align\":\"left\"},\"paper_bgcolor\":\"white\",\"plot_bgcolor\":\"#E5ECF6\",\"polar\":{\"bgcolor\":\"#E5ECF6\",\"angularaxis\":{\"gridcolor\":\"white\",\"linecolor\":\"white\",\"ticks\":\"\"},\"radialaxis\":{\"gridcolor\":\"white\",\"linecolor\":\"white\",\"ticks\":\"\"}},\"ternary\":{\"bgcolor\":\"#E5ECF6\",\"aaxis\":{\"gridcolor\":\"white\",\"linecolor\":\"white\",\"ticks\":\"\"},\"baxis\":{\"gridcolor\":\"white\",\"linecolor\":\"white\",\"ticks\":\"\"},\"caxis\":{\"gridcolor\":\"white\",\"linecolor\":\"white\",\"ticks\":\"\"}},\"coloraxis\":{\"colorbar\":{\"outlinewidth\":0,\"ticks\":\"\"}},\"colorscale\":{\"sequential\":[[0.0,\"#0d0887\"],[0.1111111111111111,\"#46039f\"],[0.2222222222222222,\"#7201a8\"],[0.3333333333333333,\"#9c179e\"],[0.4444444444444444,\"#bd3786\"],[0.5555555555555556,\"#d8576b\"],[0.6666666666666666,\"#ed7953\"],[0.7777777777777778,\"#fb9f3a\"],[0.8888888888888888,\"#fdca26\"],[1.0,\"#f0f921\"]],\"sequentialminus\":[[0.0,\"#0d0887\"],[0.1111111111111111,\"#46039f\"],[0.2222222222222222,\"#7201a8\"],[0.3333333333333333,\"#9c179e\"],[0.4444444444444444,\"#bd3786\"],[0.5555555555555556,\"#d8576b\"],[0.6666666666666666,\"#ed7953\"],[0.7777777777777778,\"#fb9f3a\"],[0.8888888888888888,\"#fdca26\"],[1.0,\"#f0f921\"]],\"diverging\":[[0,\"#8e0152\"],[0.1,\"#c51b7d\"],[0.2,\"#de77ae\"],[0.3,\"#f1b6da\"],[0.4,\"#fde0ef\"],[0.5,\"#f7f7f7\"],[0.6,\"#e6f5d0\"],[0.7,\"#b8e186\"],[0.8,\"#7fbc41\"],[0.9,\"#4d9221\"],[1,\"#276419\"]]},\"xaxis\":{\"gridcolor\":\"white\",\"linecolor\":\"white\",\"ticks\":\"\",\"title\":{\"standoff\":15},\"zerolinecolor\":\"white\",\"automargin\":true,\"zerolinewidth\":2},\"yaxis\":{\"gridcolor\":\"white\",\"linecolor\":\"white\",\"ticks\":\"\",\"title\":{\"standoff\":15},\"zerolinecolor\":\"white\",\"automargin\":true,\"zerolinewidth\":2},\"scene\":{\"xaxis\":{\"backgroundcolor\":\"#E5ECF6\",\"gridcolor\":\"white\",\"linecolor\":\"white\",\"showbackground\":true,\"ticks\":\"\",\"zerolinecolor\":\"white\",\"gridwidth\":2},\"yaxis\":{\"backgroundcolor\":\"#E5ECF6\",\"gridcolor\":\"white\",\"linecolor\":\"white\",\"showbackground\":true,\"ticks\":\"\",\"zerolinecolor\":\"white\",\"gridwidth\":2},\"zaxis\":{\"backgroundcolor\":\"#E5ECF6\",\"gridcolor\":\"white\",\"linecolor\":\"white\",\"showbackground\":true,\"ticks\":\"\",\"zerolinecolor\":\"white\",\"gridwidth\":2}},\"shapedefaults\":{\"line\":{\"color\":\"#2a3f5f\"}},\"annotationdefaults\":{\"arrowcolor\":\"#2a3f5f\",\"arrowhead\":0,\"arrowwidth\":1},\"geo\":{\"bgcolor\":\"white\",\"landcolor\":\"#E5ECF6\",\"subunitcolor\":\"white\",\"showland\":true,\"showlakes\":true,\"lakecolor\":\"white\"},\"title\":{\"x\":0.05},\"mapbox\":{\"style\":\"light\"}}},\"xaxis\":{\"range\":[-0.5,5],\"title\":{\"text\":\"x1\"}},\"yaxis\":{\"range\":[-0.5,5],\"title\":{\"text\":\"x2\"}},\"sliders\":[{\"active\":0,\"currentvalue\":{\"font\":{\"size\":16},\"prefix\":\"z = \"},\"steps\":[{\"args\":[[\"z = 1\"],{\"frame\":{\"duration\":500,\"redraw\":true},\"mode\":\"immediate\"}],\"label\":\"1\",\"method\":\"animate\"},{\"args\":[[\"z = 2\"],{\"frame\":{\"duration\":500,\"redraw\":true},\"mode\":\"immediate\"}],\"label\":\"2\",\"method\":\"animate\"},{\"args\":[[\"z = 3\"],{\"frame\":{\"duration\":500,\"redraw\":true},\"mode\":\"immediate\"}],\"label\":\"3\",\"method\":\"animate\"},{\"args\":[[\"z = 4\"],{\"frame\":{\"duration\":500,\"redraw\":true},\"mode\":\"immediate\"}],\"label\":\"4\",\"method\":\"animate\"},{\"args\":[[\"z = 5\"],{\"frame\":{\"duration\":500,\"redraw\":true},\"mode\":\"immediate\"}],\"label\":\"5\",\"method\":\"animate\"},{\"args\":[[\"z = 6\"],{\"frame\":{\"duration\":500,\"redraw\":true},\"mode\":\"immediate\"}],\"label\":\"6\",\"method\":\"animate\"}]}],\"title\":{\"text\":\"Linear Objective Optimization: x1 + x2 = z\"},\"showlegend\":true},                        {\"responsive\": true}                    ).then(function(){\n",
       "                            Plotly.addFrames('375f8bca-7cf4-4d48-a030-e2e9f07068dd', [{\"data\":[{\"fill\":\"toself\",\"line\":{\"color\":\"blue\",\"width\":2},\"name\":\"Feasible Region\",\"x\":[0,3,2,0,0],\"y\":[0,0,3,4,0],\"type\":\"scatter\"},{\"line\":{\"color\":\"red\",\"width\":3},\"mode\":\"lines\",\"name\":\"z = 1 (current)\",\"x\":[1,0],\"y\":[0,1],\"type\":\"scatter\"}],\"name\":\"z = 1\"},{\"data\":[{\"fill\":\"toself\",\"line\":{\"color\":\"blue\",\"width\":2},\"name\":\"Feasible Region\",\"x\":[0,3,2,0,0],\"y\":[0,0,3,4,0],\"type\":\"scatter\"},{\"line\":{\"color\":\"orange\",\"dash\":\"dash\",\"width\":2},\"mode\":\"lines\",\"name\":\"z = 1 (dashed)\",\"x\":[1,0],\"y\":[0,1],\"type\":\"scatter\"},{\"line\":{\"color\":\"red\",\"width\":3},\"mode\":\"lines\",\"name\":\"z = 2 (current)\",\"x\":[2,0],\"y\":[0,2],\"type\":\"scatter\"}],\"name\":\"z = 2\"},{\"data\":[{\"fill\":\"toself\",\"line\":{\"color\":\"blue\",\"width\":2},\"name\":\"Feasible Region\",\"x\":[0,3,2,0,0],\"y\":[0,0,3,4,0],\"type\":\"scatter\"},{\"line\":{\"color\":\"orange\",\"dash\":\"dash\",\"width\":2},\"mode\":\"lines\",\"name\":\"z = 1 (dashed)\",\"x\":[1,0],\"y\":[0,1],\"type\":\"scatter\"},{\"line\":{\"color\":\"orange\",\"dash\":\"dash\",\"width\":2},\"mode\":\"lines\",\"name\":\"z = 2 (dashed)\",\"x\":[2,0],\"y\":[0,2],\"type\":\"scatter\"},{\"line\":{\"color\":\"red\",\"width\":3},\"mode\":\"lines\",\"name\":\"z = 3 (current)\",\"x\":[3,0],\"y\":[0,3],\"type\":\"scatter\"}],\"name\":\"z = 3\"},{\"data\":[{\"fill\":\"toself\",\"line\":{\"color\":\"blue\",\"width\":2},\"name\":\"Feasible Region\",\"x\":[0,3,2,0,0],\"y\":[0,0,3,4,0],\"type\":\"scatter\"},{\"line\":{\"color\":\"orange\",\"dash\":\"dash\",\"width\":2},\"mode\":\"lines\",\"name\":\"z = 1 (dashed)\",\"x\":[1,0],\"y\":[0,1],\"type\":\"scatter\"},{\"line\":{\"color\":\"orange\",\"dash\":\"dash\",\"width\":2},\"mode\":\"lines\",\"name\":\"z = 2 (dashed)\",\"x\":[2,0],\"y\":[0,2],\"type\":\"scatter\"},{\"line\":{\"color\":\"orange\",\"dash\":\"dash\",\"width\":2},\"mode\":\"lines\",\"name\":\"z = 3 (dashed)\",\"x\":[3,0],\"y\":[0,3],\"type\":\"scatter\"},{\"line\":{\"color\":\"red\",\"width\":3},\"mode\":\"lines\",\"name\":\"z = 4 (current)\",\"x\":[4,0],\"y\":[0,4],\"type\":\"scatter\"}],\"name\":\"z = 4\"},{\"data\":[{\"fill\":\"toself\",\"line\":{\"color\":\"blue\",\"width\":2},\"name\":\"Feasible Region\",\"x\":[0,3,2,0,0],\"y\":[0,0,3,4,0],\"type\":\"scatter\"},{\"line\":{\"color\":\"orange\",\"dash\":\"dash\",\"width\":2},\"mode\":\"lines\",\"name\":\"z = 1 (dashed)\",\"x\":[1,0],\"y\":[0,1],\"type\":\"scatter\"},{\"line\":{\"color\":\"orange\",\"dash\":\"dash\",\"width\":2},\"mode\":\"lines\",\"name\":\"z = 2 (dashed)\",\"x\":[2,0],\"y\":[0,2],\"type\":\"scatter\"},{\"line\":{\"color\":\"orange\",\"dash\":\"dash\",\"width\":2},\"mode\":\"lines\",\"name\":\"z = 3 (dashed)\",\"x\":[3,0],\"y\":[0,3],\"type\":\"scatter\"},{\"line\":{\"color\":\"orange\",\"dash\":\"dash\",\"width\":2},\"mode\":\"lines\",\"name\":\"z = 4 (dashed)\",\"x\":[4,0],\"y\":[0,4],\"type\":\"scatter\"},{\"line\":{\"color\":\"red\",\"width\":3},\"mode\":\"lines\",\"name\":\"z = 5 (current)\",\"x\":[5,0],\"y\":[0,5],\"type\":\"scatter\"}],\"name\":\"z = 5\"},{\"data\":[{\"fill\":\"toself\",\"line\":{\"color\":\"blue\",\"width\":2},\"name\":\"Feasible Region\",\"x\":[0,3,2,0,0],\"y\":[0,0,3,4,0],\"type\":\"scatter\"},{\"line\":{\"color\":\"orange\",\"dash\":\"dash\",\"width\":2},\"mode\":\"lines\",\"name\":\"z = 1 (dashed)\",\"x\":[1,0],\"y\":[0,1],\"type\":\"scatter\"},{\"line\":{\"color\":\"orange\",\"dash\":\"dash\",\"width\":2},\"mode\":\"lines\",\"name\":\"z = 2 (dashed)\",\"x\":[2,0],\"y\":[0,2],\"type\":\"scatter\"},{\"line\":{\"color\":\"orange\",\"dash\":\"dash\",\"width\":2},\"mode\":\"lines\",\"name\":\"z = 3 (dashed)\",\"x\":[3,0],\"y\":[0,3],\"type\":\"scatter\"},{\"line\":{\"color\":\"orange\",\"dash\":\"dash\",\"width\":2},\"mode\":\"lines\",\"name\":\"z = 4 (dashed)\",\"x\":[4,0],\"y\":[0,4],\"type\":\"scatter\"},{\"line\":{\"color\":\"orange\",\"dash\":\"dash\",\"width\":2},\"mode\":\"lines\",\"name\":\"z = 5 (dashed)\",\"x\":[5,0],\"y\":[0,5],\"type\":\"scatter\"},{\"line\":{\"color\":\"red\",\"width\":3},\"mode\":\"lines\",\"name\":\"z = 6 (current)\",\"x\":[6,0],\"y\":[0,6],\"type\":\"scatter\"}],\"name\":\"z = 6\"}]);\n",
       "                        }).then(function(){\n",
       "                            \n",
       "var gd = document.getElementById('375f8bca-7cf4-4d48-a030-e2e9f07068dd');\n",
       "var x = new MutationObserver(function (mutations, observer) {{\n",
       "        var display = window.getComputedStyle(gd).display;\n",
       "        if (!display || display === 'none') {{\n",
       "            console.log([gd, 'removed!']);\n",
       "            Plotly.purge(gd);\n",
       "            observer.disconnect();\n",
       "        }}\n",
       "}});\n",
       "\n",
       "// Listen for the removal of the full notebook cells\n",
       "var notebookContainer = gd.closest('#notebook-container');\n",
       "if (notebookContainer) {{\n",
       "    x.observe(notebookContainer, {childList: true});\n",
       "}}\n",
       "\n",
       "// Listen for the clearing of the current output cell\n",
       "var outputEl = gd.closest('.output');\n",
       "if (outputEl) {{\n",
       "    x.observe(outputEl, {childList: true});\n",
       "}}\n",
       "\n",
       "                        })                };                });            </script>        </div>"
      ]
     },
     "metadata": {},
     "output_type": "display_data"
    }
   ],
   "source": [
    "import numpy as np\n",
    "import plotly.graph_objects as go\n",
    "\n",
    "# -----------------------------------\n",
    "# Step 1: Define the Polygonal Region\n",
    "# -----------------------------------\n",
    "# Vertices of the feasible polygon (a quadrilateral)\n",
    "polygon_vertices = np.array([\n",
    "    [0, 0],\n",
    "    [3, 0],\n",
    "    [2, 3],\n",
    "    [0, 4],\n",
    "    [0, 0]  # Closing the polygon\n",
    "])\n",
    "\n",
    "# Linear objective function: x1 + x2 = z\n",
    "z_values = range(1, 7)  # Integer contour levels from 1 to 6\n",
    "\n",
    "# -----------------------------------\n",
    "# Step 2: Compute Contour Lines\n",
    "# -----------------------------------\n",
    "# Function to compute the contour line in the non-negative orthant\n",
    "def contour_line_in_orthant(z):\n",
    "    return [\n",
    "        [z, 0],  # Intersection with x1-axis\n",
    "        [0, z]   # Intersection with x2-axis\n",
    "    ]\n",
    "\n",
    "# -----------------------------------\n",
    "# Step 3: Initialize the Base Figure\n",
    "# -----------------------------------\n",
    "# Base figure setup\n",
    "fig = go.Figure()\n",
    "\n",
    "# Static feasible region\n",
    "fig.add_trace(go.Scatter(\n",
    "    x=polygon_vertices[:, 0],\n",
    "    y=polygon_vertices[:, 1],\n",
    "    fill=\"toself\",\n",
    "    line=dict(color=\"blue\", width=2),\n",
    "    name=\"Feasible Region\"\n",
    "))\n",
    "\n",
    "# -----------------------------------\n",
    "# Step 4: Build Frames and Slider\n",
    "# -----------------------------------\n",
    "frames = []\n",
    "steps = []\n",
    "\n",
    "# Track all previous dashed lines\n",
    "previous_lines = []\n",
    "\n",
    "for z in z_values:\n",
    "    frame_traces = []\n",
    "\n",
    "    # Feasible region (re-added for each frame)\n",
    "    frame_traces.append(go.Scatter(\n",
    "        x=polygon_vertices[:, 0],\n",
    "        y=polygon_vertices[:, 1],\n",
    "        fill=\"toself\",\n",
    "        line=dict(color=\"blue\", width=2),\n",
    "        name=\"Feasible Region\"\n",
    "    ))\n",
    "\n",
    "    # Add previous dashed lines\n",
    "    for prev_z, prev_line in previous_lines:\n",
    "        frame_traces.append(go.Scatter(\n",
    "            x=[prev_line[0][0], prev_line[1][0]],\n",
    "            y=[prev_line[0][1], prev_line[1][1]],\n",
    "            mode=\"lines\",\n",
    "            line=dict(dash=\"dash\", color=\"orange\", width=2),\n",
    "            name=f\"z = {prev_z} (dashed)\"\n",
    "        ))\n",
    "\n",
    "    # Compute and add the current contour line\n",
    "    current_line = contour_line_in_orthant(z)\n",
    "    frame_traces.append(go.Scatter(\n",
    "        x=[current_line[0][0], current_line[1][0]],\n",
    "        y=[current_line[0][1], current_line[1][1]],\n",
    "        mode=\"lines\",\n",
    "        line=dict(color=\"red\", width=3),\n",
    "        name=f\"z = {z} (current)\"\n",
    "    ))\n",
    "\n",
    "    # Add current line to dashed list for future frames\n",
    "    previous_lines.append((z, current_line))\n",
    "\n",
    "    # Create a frame with all the traces\n",
    "    frames.append(go.Frame(\n",
    "        data=frame_traces,\n",
    "        name=f\"z = {z}\"\n",
    "    ))\n",
    "\n",
    "    # Add a step to the slider\n",
    "    steps.append(dict(\n",
    "        method=\"animate\",\n",
    "        args=[[f\"z = {z}\"], {\"frame\": {\"duration\": 500, \"redraw\": True}, \"mode\": \"immediate\"}],\n",
    "        label=str(z)\n",
    "    ))\n",
    "\n",
    "# -----------------------------------\n",
    "# Step 5: Add Frames and Slider to the Figure\n",
    "# -----------------------------------\n",
    "fig.update(frames=frames)\n",
    "\n",
    "# Slider definition\n",
    "sliders = [dict(\n",
    "    active=0,\n",
    "    currentvalue={\"prefix\": \"z = \", \"font\": {\"size\": 16}},\n",
    "    steps=steps\n",
    ")]\n",
    "\n",
    "# Final layout updates\n",
    "fig.update_layout(\n",
    "    sliders=sliders,\n",
    "    xaxis=dict(range=[-0.5, 5], title=\"x1\"),\n",
    "    yaxis=dict(range=[-0.5, 5], title=\"x2\"),\n",
    "    title=\"Linear Objective Optimization: x1 + x2 = z\",\n",
    "    showlegend=True\n",
    ")\n",
    "\n",
    "# Show the figure\n",
    "fig.show()\n"
   ]
  },
  {
   "cell_type": "code",
   "execution_count": null,
   "metadata": {},
   "outputs": [],
   "source": []
  }
 ],
 "metadata": {
  "kernelspec": {
   "display_name": "Python 3",
   "language": "python",
   "name": "python3"
  }
 },
 "nbformat": 4,
 "nbformat_minor": 4
}
