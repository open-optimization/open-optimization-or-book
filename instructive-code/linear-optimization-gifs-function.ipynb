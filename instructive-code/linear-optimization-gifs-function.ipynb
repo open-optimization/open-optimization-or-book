{
 "cells": [
  {
   "cell_type": "markdown",
   "metadata": {},
   "source": [
    "# Gif making function"
   ]
  },
  {
   "cell_type": "code",
   "execution_count": 43,
   "metadata": {},
   "outputs": [],
   "source": [
    "import numpy as np\n",
    "import plotly.graph_objects as go\n",
    "import imageio\n",
    "import os\n",
    "\n",
    "def create_linear_optimization_gif(vertices, z_values, dirname, gifname, c1=1, c2=1):\n",
    "    \"\"\"\n",
    "    Creates a GIF showing the linear objective function optimization over a polygonal feasible region.\n",
    "\n",
    "    Parameters:\n",
    "        vertices (array-like): Vertices of the polygon as (x, y) coordinates.\n",
    "        z_values (list or range): Objective values for the animation.\n",
    "        dirname (str): Directory name to save frames.\n",
    "        gifname (str): Name for the output GIF file (without extension).\n",
    "        c1 (float): Coefficient of x1 in the objective function.\n",
    "        c2 (float): Coefficient of x2 in the objective function.\n",
    "    \"\"\"\n",
    "    # Create a folder for frames\n",
    "    if not os.path.exists(dirname):\n",
    "        os.makedirs(dirname)\n",
    "\n",
    "    # Function to compute the contour line in the non-negative orthant\n",
    "    def contour_line_in_orthant(z):\n",
    "        return np.array([\n",
    "            [z / c1, 0],  # Intersection with x1-axis\n",
    "            [0, z / c2]   # Intersection with x2-axis\n",
    "        ])\n",
    "\n",
    "    # Track dashed contour lines and previous labels\n",
    "    previous_contours = []\n",
    "    previous_labels = []\n",
    "\n",
    "    # Generate frames\n",
    "    for i, z in enumerate(z_values):\n",
    "        fig = go.Figure()\n",
    "\n",
    "        # Plot the polygon (feasible region)\n",
    "        fig.add_trace(go.Scatter(\n",
    "            x=vertices[:, 0],\n",
    "            y=vertices[:, 1],\n",
    "            fill=\"toself\",\n",
    "            line=dict(color=\"blue\", width=2),\n",
    "            name=\"Feasible Region\"\n",
    "        ))\n",
    "\n",
    "        # Plot previous dashed contour lines\n",
    "        for prev_z, prev_line in previous_contours:\n",
    "            fig.add_trace(go.Scatter(\n",
    "                x=prev_line[:, 0],\n",
    "                y=prev_line[:, 1],\n",
    "                mode=\"lines\",\n",
    "                line=dict(dash=\"dash\", color=\"orange\", width=2),\n",
    "                name=f\"z = {prev_z} (dashed)\"\n",
    "            ))\n",
    "\n",
    "        # Add previous labels\n",
    "        for prev_z, prev_x in previous_labels:\n",
    "            fig.add_annotation(\n",
    "                x=prev_x,  # x-coordinate of label\n",
    "                y=-0.2,  # Below the x-axis\n",
    "                text=f\"z = {prev_z}\",\n",
    "                showarrow=False,\n",
    "                font=dict(size=12, color=\"black\"),\n",
    "                xanchor=\"center\"\n",
    "            )\n",
    "\n",
    "        # Compute and plot the current contour line\n",
    "        contour_line = contour_line_in_orthant(z)\n",
    "        fig.add_trace(go.Scatter(\n",
    "            x=contour_line[:, 0],\n",
    "            y=contour_line[:, 1],\n",
    "            mode=\"lines\",\n",
    "            line=dict(color=\"red\", width=3),\n",
    "            name=f\"z = {z}\"\n",
    "        ))\n",
    "\n",
    "        # Add label for the current z-value below the x-axis\n",
    "        current_x = contour_line[0][0]  # x-coordinate where (z / c1, 0)\n",
    "        fig.add_annotation(\n",
    "            x=current_x,\n",
    "            y=-0.2,  # Place slightly below the x-axis\n",
    "            text=f\"z = {z}\",\n",
    "            showarrow=False,\n",
    "            font=dict(size=12, color=\"black\"),\n",
    "            xanchor=\"center\"\n",
    "        )\n",
    "\n",
    "        # Save current contour line and label for future frames\n",
    "        previous_contours.append((z, contour_line))\n",
    "        previous_labels.append((z, current_x))\n",
    "\n",
    "        # Update layout\n",
    "        fig.update_layout(\n",
    "            title=f\"Objective function: z = {c1}x1 + {c2}x2\",\n",
    "            xaxis=dict(range=[-0.5, 5], title=\"x1\"),\n",
    "            yaxis=dict(range=[-0.5, 5], title=\"x2\"),\n",
    "            showlegend=True\n",
    "        )\n",
    "\n",
    "        # Save the current frame\n",
    "        fig.write_image(f\"{dirname}/frame_{i}.png\")\n",
    "\n",
    "    # Combine frames into a GIF\n",
    "    images = []\n",
    "    for i in range(len(z_values)):\n",
    "        images.append(imageio.imread(f\"{dirname}/frame_{i}.png\"))\n",
    "\n",
    "    # Append the last frame multiple times for a pause effect\n",
    "    pause_frames = 10  # Adjust pause duration (10 frames ~ 1s at 0.1s per frame)\n",
    "    for _ in range(pause_frames):\n",
    "        images.append(imageio.imread(f\"{dirname}/frame_{len(z_values)-1}.png\"))\n",
    "\n",
    "    output_gif = f\"{gifname}.gif\"\n",
    "    imageio.mimsave(output_gif, images, duration=0.5)  # 0.5s per frame\n",
    "\n",
    "    print(f\"Animation saved as {output_gif}\")\n"
   ]
  },
  {
   "cell_type": "markdown",
   "metadata": {},
   "source": [
    "# Make some examples"
   ]
  },
  {
   "cell_type": "code",
   "execution_count": 44,
   "metadata": {},
   "outputs": [
    {
     "name": "stdout",
     "output_type": "stream",
     "text": [
      "Animation saved as linear_optimization.gif\n"
     ]
    }
   ],
   "source": [
    "# Vertices of the feasible polygon (a quadrilateral)\n",
    "vertices = np.array([\n",
    "    [0, 0],\n",
    "    [3, 0],\n",
    "    [2, 3],\n",
    "    [0, 4],\n",
    "    [0, 0]  # Closing the polygon\n",
    "])\n",
    "\n",
    "# Linear objective function: x1 + x2 = z\n",
    "c1, c2 = 1, 1  # Objective coefficients\n",
    "z_values = range(1, 6)  # Integer contour levels from 1 to 8\n",
    "dirname = \"frames\"\n",
    "gifname = \"linear_optimization\"\n",
    "create_linear_optimization_gif(vertices, z_values, dirname, gifname, c1, c2)"
   ]
  },
  {
   "cell_type": "code",
   "execution_count": 45,
   "metadata": {},
   "outputs": [
    {
     "name": "stdout",
     "output_type": "stream",
     "text": [
      "Animation saved as linear_optimization2.gif\n"
     ]
    }
   ],
   "source": [
    "vertices = np.array([\n",
    "    [0,0],\n",
    "    [3, 0],\n",
    "    [4,1],\n",
    "    [2, 3],\n",
    "    [0, 4],\n",
    "    [0,0]  # Closing the polygon\n",
    "])\n",
    "\n",
    "# Linear objective function: x1 + x2 = z\n",
    "c1, c2 = 1, 1  # Objective coefficients\n",
    "z_values = range(1, 6)  # Integer contour levels from 1 to 8\n",
    "\n",
    "dirname = \"frames2\"\n",
    "gifname = \"linear_optimization2\"\n",
    "\n",
    "create_linear_optimization_gif(vertices, z_values, dirname, gifname, c1, c2)"
   ]
  },
  {
   "cell_type": "code",
   "execution_count": 46,
   "metadata": {},
   "outputs": [
    {
     "name": "stdout",
     "output_type": "stream",
     "text": [
      "Animation saved as linear_optimization3.gif\n"
     ]
    }
   ],
   "source": [
    "# Vertices of the feasible polygon (a quadrilateral)\n",
    "vertices = np.array([\n",
    "    [0,0],\n",
    "    [3, 0],\n",
    "    [4,1],\n",
    "    [2, 3],\n",
    "    [0, 4],\n",
    "    [0,0]  # Closing the polygon\n",
    "])\n",
    "\n",
    "# Linear objective function: x1 + x2 = z\n",
    "c1, c2 = 2, 1  # Objective coefficients\n",
    "z_values = range(1, 10)  # Integer contour levels from 1 to 8\n",
    "\n",
    "dirname = \"frames3\"\n",
    "gifname = \"linear_optimization3\"\n",
    "\n",
    "create_linear_optimization_gif(vertices, z_values, dirname, gifname, c1, c2)"
   ]
  },
  {
   "cell_type": "code",
   "execution_count": 47,
   "metadata": {},
   "outputs": [
    {
     "name": "stdout",
     "output_type": "stream",
     "text": [
      "Animation saved as linear_optimization4.gif\n"
     ]
    }
   ],
   "source": [
    "vertices = np.array([\n",
    "    [0,0],\n",
    "    [3, 0],\n",
    "    [4,1],\n",
    "    [2, 3],\n",
    "    [0, 4],\n",
    "    [0,0]  # Closing the polygon\n",
    "])\n",
    "c1, c2 = 2, 3  # Objective coefficients\n",
    "z_values = range(1, 15,2)  # Integer contour levels from 1 to 8\n",
    "\n",
    "dirname = \"frames4\"\n",
    "gifname = \"linear_optimization4\"\n",
    "\n",
    "create_linear_optimization_gif(vertices, z_values, dirname, gifname, c1, c2)"
   ]
  },
  {
   "cell_type": "code",
   "execution_count": null,
   "metadata": {},
   "outputs": [],
   "source": []
  },
  {
   "cell_type": "code",
   "execution_count": null,
   "metadata": {},
   "outputs": [],
   "source": []
  }
 ],
 "metadata": {
  "kernelspec": {
   "display_name": "Python 3",
   "language": "python",
   "name": "python3"
  },
  "language_info": {
   "codemirror_mode": {
    "name": "ipython",
    "version": 3
   },
   "file_extension": ".py",
   "mimetype": "text/x-python",
   "name": "python",
   "nbconvert_exporter": "python",
   "pygments_lexer": "ipython3",
   "version": "3.7.7"
  }
 },
 "nbformat": 4,
 "nbformat_minor": 4
}
